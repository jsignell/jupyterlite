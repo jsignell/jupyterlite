{
  "metadata": {
    "toc-showcode": false,
    "kernelspec": {
      "display_name": "Python (Pyodide)",
      "language": "python",
      "name": "python"
    },
    "language_info": {
      "codemirror_mode": {
        "name": "python",
        "version": 3
      },
      "file_extension": ".py",
      "mimetype": "text/x-python",
      "name": "python",
      "nbconvert_exporter": "python",
      "pygments_lexer": "ipython3",
      "version": "3.8"
    }
  },
  "nbformat_minor": 4,
  "nbformat": 4,
  "cells": [
    {
      "cell_type": "code",
      "source": "%pip install -q bqplot ipyleaflet",
      "metadata": {
        "trusted": true
      },
      "execution_count": 1,
      "outputs": []
    },
    {
      "cell_type": "code",
      "source": "import os\nimport urllib\nimport json\nfrom datetime import datetime\n\nimport numpy as np\nimport pandas as pd\nimport geopandas as gpd\n\nfrom js import fetch\n\nfrom ipywidgets import Dropdown, Output\n\nfrom bqplot import Lines, Figure, LinearScale, DateScale, Axis\n\nfrom ipyleaflet import Map, GeoJSON, WidgetControl, GeoData, LayersControl",
      "metadata": {
        "trusted": true
      },
      "execution_count": 2,
      "outputs": []
    },
    {
      "cell_type": "markdown",
      "source": "## Fetch the data",
      "metadata": {}
    },
    {
      "cell_type": "code",
      "source": "URL = \"https://firenrt.delta-backend.com/collections/public.eis_fire_snapshot_perimeter_nrt\"\nres = await fetch(URL)\ntext = await res.text()\n\nmost_recent_time = json.loads(text)[\"extent\"][\"temporal\"][\"interval\"][0][1]\nmost_recent_time",
      "metadata": {
        "trusted": true
      },
      "execution_count": 3,
      "outputs": [
        {
          "execution_count": 3,
          "output_type": "execute_result",
          "data": {
            "text/plain": "'2023-07-25T12:00:00+00:00'"
          },
          "metadata": {}
        }
      ]
    },
    {
      "cell_type": "code",
      "source": "async def get_data(url):\n    response = await fetch(url)\n    text = await response.text()\n    result = json.loads(text)\n    assert result[\"numberMatched\"] == result[\"numberReturned\"], \"Increase the limit\"\n    return gpd.GeoDataFrame.from_features(result[\"features\"])",
      "metadata": {
        "trusted": true
      },
      "execution_count": 4,
      "outputs": []
    },
    {
      "cell_type": "code",
      "source": "url = (\n    'https://firenrt.delta-backend.com/'\n    'collections/public.eis_fire_snapshot_perimeter_nrt/items?'\n    f'datetime={urllib.parse.quote(most_recent_time)}&'\n    'limit=1000&'\n    'filter=farea%3E5+AND+duration%3E2&'\n    'f=geojson'\n)\n\ndf = await get_data(url)\nprint(\"Found\", len(df), \"fires burning at most recent time:\", most_recent_time)",
      "metadata": {
        "trusted": true
      },
      "execution_count": 5,
      "outputs": [
        {
          "name": "stdout",
          "text": "Found 16 fires burning at most recent time: 2023-07-25T12:00:00+00:00\n",
          "output_type": "stream"
        }
      ]
    },
    {
      "cell_type": "code",
      "source": "fireids = \",\".join(str(fireid) for fireid in df.fireid)\nurl = (\n    \"https://firenrt.delta-backend.com/collections/public.eis_fire_snapshot_fireline_nrt/items?\"\n    f\"filter=fireid+IN+({fireids})&\"\n    \"limit=1000\"\n)\nflines = await get_data(url)",
      "metadata": {
        "trusted": true
      },
      "execution_count": 6,
      "outputs": []
    },
    {
      "cell_type": "code",
      "source": "def clean_data(data):\n    data.fireid = data.fireid.astype(str)\n    data.fireid = data.fireid.apply(lambda x: f'F{x}' if not x.startswith(\"F\") else x)\n    # data.t = pd.to_datetime(data.t)\n    data = data.sort_values(\"t\", ascending=False)\n    return data\n\ndf = clean_data(df)\nflines = clean_data(flines)\npins = df.copy()\npins[\"geometry\"] = df.geometry.representative_point()",
      "metadata": {
        "trusted": true
      },
      "execution_count": 7,
      "outputs": []
    },
    {
      "cell_type": "code",
      "source": "fireids = \",\".join(f\"'{fireid}'\" for fireid in df.fireid)\nurl = (\n    \"https://firenrt.delta-backend.com/collections/public.eis_fire_lf_perimeter_nrt/items?\"\n    f\"filter=fireid+IN+({fireids})&\"\n    \"limit=1000\"\n)\nfires_df = await get_data(url)\nfires_df = clean_data(fires_df)\n\nprint(\"Found\", len(fires_df), \"time steps for current fires\")",
      "metadata": {
        "trusted": true
      },
      "execution_count": 8,
      "outputs": [
        {
          "name": "stdout",
          "text": "Found 351 time steps for current fires\n",
          "output_type": "stream"
        }
      ]
    },
    {
      "cell_type": "markdown",
      "source": "## Construct a timeseries",
      "metadata": {}
    },
    {
      "cell_type": "code",
      "source": "fireid = df.fireid[0]\ndata_name = 'farea'\n\ndata = fires_df\nsubset = data[data.fireid == fireid].sort_values(\"t\")\n\ny_data = subset[data_name].values\nx_data = pd.to_datetime(subset[\"t\"].values)\nt = x_data.max()",
      "metadata": {
        "trusted": true
      },
      "execution_count": 9,
      "outputs": []
    },
    {
      "cell_type": "code",
      "source": "y_scale = LinearScale()\ndate_scale = DateScale()\n\nlines = Lines(x=x_data, y=y_data, scales={'x': date_scale, 'y': y_scale})\nv_lines = Lines(x=[t, t], y=[y_data.min(), y_data.max()], scales={'x': date_scale, 'y': y_scale}, colors=[\"red\"])\n\nax_x = Axis(label='Time', scale=date_scale)\nax_y = Axis(label=data_name.capitalize(), scale=y_scale, orientation='vertical', side='left')\n\nfigure = Figure(axes=[ax_x, ax_y], title=fireid, marks=[lines, v_lines], animation_duration=500,\n                layout={'max_height': '400px', 'width': '500px'})",
      "metadata": {
        "trusted": true
      },
      "execution_count": 10,
      "outputs": []
    },
    {
      "cell_type": "code",
      "source": "figure",
      "metadata": {
        "trusted": true
      },
      "execution_count": 11,
      "outputs": [
        {
          "execution_count": 11,
          "output_type": "execute_result",
          "data": {
            "text/plain": "Figure(animation_duration=500, axes=[Axis(label='Time', scale=DateScale()), Axis(label='Farea', orientation='v…",
            "application/vnd.jupyter.widget-view+json": {
              "version_major": 2,
              "version_minor": 0,
              "model_id": "d501f72d20f94f8398b521d5d107997c"
            }
          },
          "metadata": {}
        }
      ]
    },
    {
      "cell_type": "code",
      "source": "def update_figure(fireid, data_name, t):\n    try:\n        subset = data[data.fireid == fireid].sort_values(\"t\")\n        y_data = subset[data_name].values\n        x_data = pd.to_datetime(subset[\"t\"].values)\n        lines.y = y_data\n        lines.x = x_data\n        v_lines.x = [t, t]\n        v_lines.y = [lines.y.min(), lines.y.max()]\n        ax_y.label = data_name.capitalize()\n        figure.title = fireid\n    except IndexError:\n        pass\n    \ndef update_y(fireid, data_name):\n    try:\n        subset = data[data.fireid == fireid].sort_values(\"t\")\n        lines.y = subset[data_name].values\n        v_lines.y = [lines.y.min(), lines.y.max()]\n        ax_y.label = data_name.capitalize()\n\n    except IndexError:\n        pass",
      "metadata": {
        "trusted": true
      },
      "execution_count": 12,
      "outputs": []
    },
    {
      "cell_type": "code",
      "source": "update_figure(df.fireid.sample().item(), \"farea\", t)",
      "metadata": {
        "trusted": true
      },
      "execution_count": 13,
      "outputs": []
    },
    {
      "cell_type": "markdown",
      "source": "## Construct a map",
      "metadata": {}
    },
    {
      "cell_type": "code",
      "source": "m = Map(center=(39, -98), zoom=4, scroll_wheel_zoom=True)\n\nm.layout.height=\"600px\"\n\ncurrent_points = GeoData(geo_dataframe=pins, name = 'Pins')\n\ncurrent_polygons = GeoData(\n    geo_dataframe=df, \n    style={'fillColor': 'red','color': 'red'}, \n    hover_style={'fillColor': 'black'}, \n    name='Current Perimeters'\n)\n\narchive_polygons = GeoData(\n    geo_dataframe=fires_df, \n    style={'color': 'black', \"fillOpacity\": 0}, \n    hover_style={'fillColor': 'black', \"fillOpacity\": 0.5}, \n    name='Archive Perimeters'\n)\n\nfline_paths = GeoData(\n    geo_dataframe=flines,\n    style={'color': 'orange'},\n    name='Fire Lines'\n)\n\nout = Output()\n\ndropdown = Dropdown(\n    options=['farea', 'n_pixels', 'flinelen'],\n    value=data_name,\n    description='Plotting:'\n)\n\nm.add(current_points)\nm.add(current_polygons)\nm.add(archive_polygons)\nm.add(fline_paths)\nm.add(LayersControl())\nm.add(WidgetControl(widget=out, position=\"bottomleft\"))\nm.add(WidgetControl(widget=figure, position='bottomright'))\nm.add(WidgetControl(widget=dropdown, position='topright'))\n\ndef display_properties(feature, **kwargs):\n    out.clear_output()\n    with out:\n        display(pd.Series(feature[\"properties\"]))\n        \ndef on_hover(event, feature, **kwargs):\n    global fireid\n    global t\n    \n    fireid = feature['properties']['fireid']\n    t = pd.to_datetime(feature['properties']['t'])\n\n    update_figure(fireid, data_name, t)\n    display_properties(feature)\n    \n    \ndef on_dropdown(change):\n    global data_name\n\n    data_name = change['new']\n    update_y(fireid, data_name)\n\ndropdown.observe(on_dropdown, 'value')\ncurrent_polygons.on_hover(on_hover)\narchive_polygons.on_hover(on_hover)\ncurrent_points.on_click(on_hover)\n\nm",
      "metadata": {
        "trusted": true
      },
      "execution_count": 19,
      "outputs": [
        {
          "execution_count": 19,
          "output_type": "execute_result",
          "data": {
            "text/plain": "Map(center=[39, -98], controls=(ZoomControl(options=['position', 'zoom_in_text', 'zoom_in_title', 'zoom_out_te…",
            "application/vnd.jupyter.widget-view+json": {
              "version_major": 2,
              "version_minor": 0,
              "model_id": "9df715b06f6b4b53b722d16d3b1b670d"
            }
          },
          "metadata": {}
        }
      ]
    },
    {
      "cell_type": "code",
      "source": "",
      "metadata": {
        "tags": []
      },
      "execution_count": null,
      "outputs": []
    }
  ]
}